{
 "cells": [
  {
   "cell_type": "code",
   "execution_count": 1,
   "id": "70ee56f2",
   "metadata": {},
   "outputs": [],
   "source": [
    "import matplotlib.pyplot as plt\n",
    "import numpy as np\n",
    "import pandas as pd\n",
    "import seaborn as sns\n",
    "from sklearn.model_selection import train_test_split\n",
    "from sklearn.linear_model import LinearRegression\n",
    "from sklearn.metrics import mean_squared_error, r2_score\n",
    "from sklearn import metrics\n",
    "import tensorflow as tf\n",
    "from tensorflow import keras\n",
    "from tensorflow.keras import layers\n",
    "from sklearn.preprocessing import LabelEncoder"
   ]
  },
  {
   "cell_type": "code",
   "execution_count": 2,
   "id": "c6bb0392",
   "metadata": {},
   "outputs": [
    {
     "data": {
      "text/html": [
       "<div>\n",
       "<style scoped>\n",
       "    .dataframe tbody tr th:only-of-type {\n",
       "        vertical-align: middle;\n",
       "    }\n",
       "\n",
       "    .dataframe tbody tr th {\n",
       "        vertical-align: top;\n",
       "    }\n",
       "\n",
       "    .dataframe thead th {\n",
       "        text-align: right;\n",
       "    }\n",
       "</style>\n",
       "<table border=\"1\" class=\"dataframe\">\n",
       "  <thead>\n",
       "    <tr style=\"text-align: right;\">\n",
       "      <th></th>\n",
       "      <th>Area</th>\n",
       "      <th>MajorAxisLength</th>\n",
       "      <th>MinorAxisLength</th>\n",
       "      <th>Eccentricity</th>\n",
       "      <th>ConvexArea</th>\n",
       "      <th>Extent</th>\n",
       "      <th>Perimeter</th>\n",
       "      <th>Class</th>\n",
       "    </tr>\n",
       "  </thead>\n",
       "  <tbody>\n",
       "    <tr>\n",
       "      <th>0</th>\n",
       "      <td>87524</td>\n",
       "      <td>442.246011</td>\n",
       "      <td>253.291155</td>\n",
       "      <td>0.819738</td>\n",
       "      <td>90546</td>\n",
       "      <td>0.758651</td>\n",
       "      <td>1184.040</td>\n",
       "      <td>Kecimen</td>\n",
       "    </tr>\n",
       "    <tr>\n",
       "      <th>1</th>\n",
       "      <td>75166</td>\n",
       "      <td>406.690687</td>\n",
       "      <td>243.032436</td>\n",
       "      <td>0.801805</td>\n",
       "      <td>78789</td>\n",
       "      <td>0.684130</td>\n",
       "      <td>1121.786</td>\n",
       "      <td>Kecimen</td>\n",
       "    </tr>\n",
       "    <tr>\n",
       "      <th>2</th>\n",
       "      <td>90856</td>\n",
       "      <td>442.267048</td>\n",
       "      <td>266.328318</td>\n",
       "      <td>0.798354</td>\n",
       "      <td>93717</td>\n",
       "      <td>0.637613</td>\n",
       "      <td>1208.575</td>\n",
       "      <td>Kecimen</td>\n",
       "    </tr>\n",
       "    <tr>\n",
       "      <th>3</th>\n",
       "      <td>45928</td>\n",
       "      <td>286.540559</td>\n",
       "      <td>208.760042</td>\n",
       "      <td>0.684989</td>\n",
       "      <td>47336</td>\n",
       "      <td>0.699599</td>\n",
       "      <td>844.162</td>\n",
       "      <td>Kecimen</td>\n",
       "    </tr>\n",
       "    <tr>\n",
       "      <th>4</th>\n",
       "      <td>79408</td>\n",
       "      <td>352.190770</td>\n",
       "      <td>290.827533</td>\n",
       "      <td>0.564011</td>\n",
       "      <td>81463</td>\n",
       "      <td>0.792772</td>\n",
       "      <td>1073.251</td>\n",
       "      <td>Kecimen</td>\n",
       "    </tr>\n",
       "    <tr>\n",
       "      <th>...</th>\n",
       "      <td>...</td>\n",
       "      <td>...</td>\n",
       "      <td>...</td>\n",
       "      <td>...</td>\n",
       "      <td>...</td>\n",
       "      <td>...</td>\n",
       "      <td>...</td>\n",
       "      <td>...</td>\n",
       "    </tr>\n",
       "    <tr>\n",
       "      <th>895</th>\n",
       "      <td>83248</td>\n",
       "      <td>430.077308</td>\n",
       "      <td>247.838695</td>\n",
       "      <td>0.817263</td>\n",
       "      <td>85839</td>\n",
       "      <td>0.668793</td>\n",
       "      <td>1129.072</td>\n",
       "      <td>Besni</td>\n",
       "    </tr>\n",
       "    <tr>\n",
       "      <th>896</th>\n",
       "      <td>87350</td>\n",
       "      <td>440.735698</td>\n",
       "      <td>259.293149</td>\n",
       "      <td>0.808629</td>\n",
       "      <td>90899</td>\n",
       "      <td>0.636476</td>\n",
       "      <td>1214.252</td>\n",
       "      <td>Besni</td>\n",
       "    </tr>\n",
       "    <tr>\n",
       "      <th>897</th>\n",
       "      <td>99657</td>\n",
       "      <td>431.706981</td>\n",
       "      <td>298.837323</td>\n",
       "      <td>0.721684</td>\n",
       "      <td>106264</td>\n",
       "      <td>0.741099</td>\n",
       "      <td>1292.828</td>\n",
       "      <td>Besni</td>\n",
       "    </tr>\n",
       "    <tr>\n",
       "      <th>898</th>\n",
       "      <td>93523</td>\n",
       "      <td>476.344094</td>\n",
       "      <td>254.176054</td>\n",
       "      <td>0.845739</td>\n",
       "      <td>97653</td>\n",
       "      <td>0.658798</td>\n",
       "      <td>1258.548</td>\n",
       "      <td>Besni</td>\n",
       "    </tr>\n",
       "    <tr>\n",
       "      <th>899</th>\n",
       "      <td>85609</td>\n",
       "      <td>512.081774</td>\n",
       "      <td>215.271976</td>\n",
       "      <td>0.907345</td>\n",
       "      <td>89197</td>\n",
       "      <td>0.632020</td>\n",
       "      <td>1272.862</td>\n",
       "      <td>Besni</td>\n",
       "    </tr>\n",
       "  </tbody>\n",
       "</table>\n",
       "<p>900 rows × 8 columns</p>\n",
       "</div>"
      ],
      "text/plain": [
       "      Area  MajorAxisLength  MinorAxisLength  Eccentricity  ConvexArea  \\\n",
       "0    87524       442.246011       253.291155      0.819738       90546   \n",
       "1    75166       406.690687       243.032436      0.801805       78789   \n",
       "2    90856       442.267048       266.328318      0.798354       93717   \n",
       "3    45928       286.540559       208.760042      0.684989       47336   \n",
       "4    79408       352.190770       290.827533      0.564011       81463   \n",
       "..     ...              ...              ...           ...         ...   \n",
       "895  83248       430.077308       247.838695      0.817263       85839   \n",
       "896  87350       440.735698       259.293149      0.808629       90899   \n",
       "897  99657       431.706981       298.837323      0.721684      106264   \n",
       "898  93523       476.344094       254.176054      0.845739       97653   \n",
       "899  85609       512.081774       215.271976      0.907345       89197   \n",
       "\n",
       "       Extent  Perimeter    Class  \n",
       "0    0.758651   1184.040  Kecimen  \n",
       "1    0.684130   1121.786  Kecimen  \n",
       "2    0.637613   1208.575  Kecimen  \n",
       "3    0.699599    844.162  Kecimen  \n",
       "4    0.792772   1073.251  Kecimen  \n",
       "..        ...        ...      ...  \n",
       "895  0.668793   1129.072    Besni  \n",
       "896  0.636476   1214.252    Besni  \n",
       "897  0.741099   1292.828    Besni  \n",
       "898  0.658798   1258.548    Besni  \n",
       "899  0.632020   1272.862    Besni  \n",
       "\n",
       "[900 rows x 8 columns]"
      ]
     },
     "execution_count": 2,
     "metadata": {},
     "output_type": "execute_result"
    }
   ],
   "source": [
    "df = pd.read_csv(r\"C:\\Users\\samsung\\Downloads\\Raisin_Dataset.csv\")\n",
    "df"
   ]
  },
  {
   "cell_type": "code",
   "execution_count": 3,
   "id": "efe8e664",
   "metadata": {},
   "outputs": [
    {
     "data": {
      "text/plain": [
       "Area               0\n",
       "MajorAxisLength    0\n",
       "MinorAxisLength    0\n",
       "Eccentricity       0\n",
       "ConvexArea         0\n",
       "Extent             0\n",
       "Perimeter          0\n",
       "Class              0\n",
       "dtype: int64"
      ]
     },
     "execution_count": 3,
     "metadata": {},
     "output_type": "execute_result"
    }
   ],
   "source": [
    "df.isnull().sum()"
   ]
  },
  {
   "cell_type": "code",
   "execution_count": 17,
   "id": "cf77a8a1",
   "metadata": {},
   "outputs": [
    {
     "data": {
      "text/plain": [
       "<Axes: xlabel='Class', ylabel='count'>"
      ]
     },
     "execution_count": 17,
     "metadata": {},
     "output_type": "execute_result"
    },
    {
     "data": {
      "image/png": "[encoded data removed]",
      "text/plain": [
       "<Figure size 640x480 with 1 Axes>"
      ]
     },
     "metadata": {},
     "output_type": "display_data"
    }
   ],
   "source": [
    "sns.countplot(data=df,x=\"Class\" )"
   ]
  },
  {
   "cell_type": "code",
   "execution_count": 4,
   "id": "64f109cd",
   "metadata": {},
   "outputs": [],
   "source": [
    "from sklearn.preprocessing import LabelEncoder\n",
    "\n",
    "le=LabelEncoder()\n",
    "for i in df.columns:\n",
    "    df[i]=le.fit_transform(df[i])"
   ]
  },
  {
   "cell_type": "code",
   "execution_count": 5,
   "id": "41414954",
   "metadata": {},
   "outputs": [],
   "source": [
    "x = df.drop('Class', axis=1)\n",
    "y = df['Class']"
   ]
  },
  {
   "cell_type": "code",
   "execution_count": 6,
   "id": "9aed9b79",
   "metadata": {},
   "outputs": [
    {
     "data": {
      "text/html": [
       "<div>\n",
       "<style scoped>\n",
       "    .dataframe tbody tr th:only-of-type {\n",
       "        vertical-align: middle;\n",
       "    }\n",
       "\n",
       "    .dataframe tbody tr th {\n",
       "        vertical-align: top;\n",
       "    }\n",
       "\n",
       "    .dataframe thead th {\n",
       "        text-align: right;\n",
       "    }\n",
       "</style>\n",
       "<table border=\"1\" class=\"dataframe\">\n",
       "  <thead>\n",
       "    <tr style=\"text-align: right;\">\n",
       "      <th></th>\n",
       "      <th>Area</th>\n",
       "      <th>MajorAxisLength</th>\n",
       "      <th>MinorAxisLength</th>\n",
       "      <th>Eccentricity</th>\n",
       "      <th>ConvexArea</th>\n",
       "      <th>Extent</th>\n",
       "      <th>Perimeter</th>\n",
       "    </tr>\n",
       "  </thead>\n",
       "  <tbody>\n",
       "    <tr>\n",
       "      <th>0</th>\n",
       "      <td>551</td>\n",
       "      <td>553</td>\n",
       "      <td>500</td>\n",
       "      <td>558</td>\n",
       "      <td>542</td>\n",
       "      <td>811</td>\n",
       "      <td>544</td>\n",
       "    </tr>\n",
       "    <tr>\n",
       "      <th>1</th>\n",
       "      <td>404</td>\n",
       "      <td>446</td>\n",
       "      <td>409</td>\n",
       "      <td>469</td>\n",
       "      <td>413</td>\n",
       "      <td>299</td>\n",
       "      <td>453</td>\n",
       "    </tr>\n",
       "    <tr>\n",
       "      <th>2</th>\n",
       "      <td>583</td>\n",
       "      <td>554</td>\n",
       "      <td>581</td>\n",
       "      <td>448</td>\n",
       "      <td>571</td>\n",
       "      <td>102</td>\n",
       "      <td>573</td>\n",
       "    </tr>\n",
       "    <tr>\n",
       "      <th>3</th>\n",
       "      <td>74</td>\n",
       "      <td>54</td>\n",
       "      <td>159</td>\n",
       "      <td>108</td>\n",
       "      <td>68</td>\n",
       "      <td>394</td>\n",
       "      <td>66</td>\n",
       "    </tr>\n",
       "    <tr>\n",
       "      <th>4</th>\n",
       "      <td>462</td>\n",
       "      <td>254</td>\n",
       "      <td>709</td>\n",
       "      <td>33</td>\n",
       "      <td>445</td>\n",
       "      <td>890</td>\n",
       "      <td>382</td>\n",
       "    </tr>\n",
       "    <tr>\n",
       "      <th>...</th>\n",
       "      <td>...</td>\n",
       "      <td>...</td>\n",
       "      <td>...</td>\n",
       "      <td>...</td>\n",
       "      <td>...</td>\n",
       "      <td>...</td>\n",
       "      <td>...</td>\n",
       "    </tr>\n",
       "    <tr>\n",
       "      <th>895</th>\n",
       "      <td>504</td>\n",
       "      <td>512</td>\n",
       "      <td>449</td>\n",
       "      <td>542</td>\n",
       "      <td>492</td>\n",
       "      <td>215</td>\n",
       "      <td>461</td>\n",
       "    </tr>\n",
       "    <tr>\n",
       "      <th>896</th>\n",
       "      <td>549</td>\n",
       "      <td>546</td>\n",
       "      <td>540</td>\n",
       "      <td>508</td>\n",
       "      <td>549</td>\n",
       "      <td>99</td>\n",
       "      <td>577</td>\n",
       "    </tr>\n",
       "    <tr>\n",
       "      <th>897</th>\n",
       "      <td>640</td>\n",
       "      <td>517</td>\n",
       "      <td>739</td>\n",
       "      <td>174</td>\n",
       "      <td>650</td>\n",
       "      <td>722</td>\n",
       "      <td>656</td>\n",
       "    </tr>\n",
       "    <tr>\n",
       "      <th>898</th>\n",
       "      <td>600</td>\n",
       "      <td>633</td>\n",
       "      <td>506</td>\n",
       "      <td>683</td>\n",
       "      <td>600</td>\n",
       "      <td>177</td>\n",
       "      <td>622</td>\n",
       "    </tr>\n",
       "    <tr>\n",
       "      <th>899</th>\n",
       "      <td>529</td>\n",
       "      <td>706</td>\n",
       "      <td>200</td>\n",
       "      <td>877</td>\n",
       "      <td>532</td>\n",
       "      <td>82</td>\n",
       "      <td>643</td>\n",
       "    </tr>\n",
       "  </tbody>\n",
       "</table>\n",
       "<p>900 rows × 7 columns</p>\n",
       "</div>"
      ],
      "text/plain": [
       "     Area  MajorAxisLength  MinorAxisLength  Eccentricity  ConvexArea  Extent  \\\n",
       "0     551              553              500           558         542     811   \n",
       "1     404              446              409           469         413     299   \n",
       "2     583              554              581           448         571     102   \n",
       "3      74               54              159           108          68     394   \n",
       "4     462              254              709            33         445     890   \n",
       "..    ...              ...              ...           ...         ...     ...   \n",
       "895   504              512              449           542         492     215   \n",
       "896   549              546              540           508         549      99   \n",
       "897   640              517              739           174         650     722   \n",
       "898   600              633              506           683         600     177   \n",
       "899   529              706              200           877         532      82   \n",
       "\n",
       "     Perimeter  \n",
       "0          544  \n",
       "1          453  \n",
       "2          573  \n",
       "3           66  \n",
       "4          382  \n",
       "..         ...  \n",
       "895        461  \n",
       "896        577  \n",
       "897        656  \n",
       "898        622  \n",
       "899        643  \n",
       "\n",
       "[900 rows x 7 columns]"
      ]
     },
     "execution_count": 6,
     "metadata": {},
     "output_type": "execute_result"
    }
   ],
   "source": [
    "x"
   ]
  },
  {
   "cell_type": "code",
   "execution_count": 7,
   "id": "27849ead",
   "metadata": {},
   "outputs": [],
   "source": [
    "Y = pd.get_dummies(y).values"
   ]
  },
  {
   "cell_type": "code",
   "execution_count": 8,
   "id": "44a7a464",
   "metadata": {},
   "outputs": [
    {
     "data": {
      "text/plain": [
       "array([[0, 1],\n",
       "       [0, 1],\n",
       "       [0, 1],\n",
       "       ...,\n",
       "       [1, 0],\n",
       "       [1, 0],\n",
       "       [1, 0]], dtype=uint8)"
      ]
     },
     "execution_count": 8,
     "metadata": {},
     "output_type": "execute_result"
    }
   ],
   "source": [
    "Y"
   ]
  },
  {
   "cell_type": "code",
   "execution_count": 9,
   "id": "b4b986a4",
   "metadata": {},
   "outputs": [],
   "source": [
    "from sklearn.model_selection import train_test_split\n",
    "\n",
    "X_train, X_test, y_train, y_test = train_test_split(x, Y, test_size=0.25,random_state=0)"
   ]
  },
  {
   "cell_type": "code",
   "execution_count": 10,
   "id": "fdb09ab2",
   "metadata": {},
   "outputs": [],
   "source": [
    "from tensorflow.keras import models\n",
    "from tensorflow.keras import layers\n",
    "from tensorflow.keras.optimizers import Adam\n"
   ]
  },
  {
   "cell_type": "code",
   "execution_count": 11,
   "id": "a3188767",
   "metadata": {},
   "outputs": [
    {
     "name": "stderr",
     "output_type": "stream",
     "text": [
      "WARNING:absl:`lr` is deprecated in Keras optimizer, please use `learning_rate` or use the legacy optimizer, e.g.,tf.keras.optimizers.legacy.Adam.\n"
     ]
    },
    {
     "name": "stdout",
     "output_type": "stream",
     "text": [
      "Model: \"sequential\"\n",
      "_________________________________________________________________\n",
      " Layer (type)                Output Shape              Param #   \n",
      "=================================================================\n",
      " dense (Dense)               (None, 44)                352       \n",
      "                                                                 \n",
      " dense_1 (Dense)             (None, 20)                900       \n",
      "                                                                 \n",
      " dense_2 (Dense)             (None, 16)                336       \n",
      "                                                                 \n",
      " dense_3 (Dense)             (None, 2)                 34        \n",
      "                                                                 \n",
      "=================================================================\n",
      "Total params: 1,622\n",
      "Trainable params: 1,622\n",
      "Non-trainable params: 0\n",
      "_________________________________________________________________\n"
     ]
    }
   ],
   "source": [
    "def build_model(): \n",
    "    model = models.Sequential()\n",
    "    model.add(layers.Dense(44, activation='relu', input_shape=(7,)))\n",
    "    model.add(layers.Dense(20, activation='relu'))\n",
    "    model.add(layers.Dense(16, activation='relu'))\n",
    "    model.add(layers.Dense(2, activation='softmax'))\n",
    "    model.compile(loss='binary_crossentropy', optimizer=Adam(lr=0.0048), metrics=['accuracy'])\n",
    "    \n",
    "    return model\n",
    "\n",
    "\n",
    "model = build_model() \n",
    "\n",
    "model.summary()"
   ]
  },
  {
   "cell_type": "code",
   "execution_count": 12,
   "id": "23a3884f",
   "metadata": {
    "scrolled": false
   },
   "outputs": [
    {
     "name": "stdout",
     "output_type": "stream",
     "text": [
      "Epoch 1/100\n",
      "22/22 [==============================] - 1s 12ms/step - loss: 44.4565 - accuracy: 0.4963 - val_loss: 11.0261 - val_accuracy: 0.5511\n",
      "Epoch 2/100\n",
      "22/22 [==============================] - 0s 4ms/step - loss: 6.3019 - accuracy: 0.6030 - val_loss: 3.7733 - val_accuracy: 0.7156\n",
      "Epoch 3/100\n",
      "22/22 [==============================] - 0s 3ms/step - loss: 3.1084 - accuracy: 0.6963 - val_loss: 2.7851 - val_accuracy: 0.7111\n",
      "Epoch 4/100\n",
      "22/22 [==============================] - 0s 4ms/step - loss: 2.0840 - accuracy: 0.7378 - val_loss: 1.7463 - val_accuracy: 0.7689\n",
      "Epoch 5/100\n",
      "22/22 [==============================] - 0s 4ms/step - loss: 1.4497 - accuracy: 0.7881 - val_loss: 1.3019 - val_accuracy: 0.7822\n",
      "Epoch 6/100\n",
      "22/22 [==============================] - 0s 3ms/step - loss: 1.1106 - accuracy: 0.8104 - val_loss: 0.9374 - val_accuracy: 0.8133\n",
      "Epoch 7/100\n",
      "22/22 [==============================] - 0s 5ms/step - loss: 0.7435 - accuracy: 0.8252 - val_loss: 0.8573 - val_accuracy: 0.8178\n",
      "Epoch 8/100\n",
      "22/22 [==============================] - 0s 4ms/step - loss: 0.8194 - accuracy: 0.7956 - val_loss: 0.8378 - val_accuracy: 0.8311\n",
      "Epoch 9/100\n",
      "22/22 [==============================] - 0s 4ms/step - loss: 1.0270 - accuracy: 0.7926 - val_loss: 0.9020 - val_accuracy: 0.8400\n",
      "Epoch 10/100\n",
      "22/22 [==============================] - 0s 3ms/step - loss: 0.7212 - accuracy: 0.8267 - val_loss: 0.7321 - val_accuracy: 0.8444\n",
      "Epoch 11/100\n",
      "22/22 [==============================] - 0s 5ms/step - loss: 0.5561 - accuracy: 0.8385 - val_loss: 0.8093 - val_accuracy: 0.8000\n",
      "Epoch 12/100\n",
      "22/22 [==============================] - 0s 5ms/step - loss: 0.5520 - accuracy: 0.8296 - val_loss: 0.7004 - val_accuracy: 0.8400\n",
      "Epoch 13/100\n",
      "22/22 [==============================] - 0s 4ms/step - loss: 0.5075 - accuracy: 0.8356 - val_loss: 0.6675 - val_accuracy: 0.8533\n",
      "Epoch 14/100\n",
      "22/22 [==============================] - 0s 4ms/step - loss: 0.4935 - accuracy: 0.8400 - val_loss: 0.8040 - val_accuracy: 0.8133\n",
      "Epoch 15/100\n",
      "22/22 [==============================] - 0s 3ms/step - loss: 0.5092 - accuracy: 0.8548 - val_loss: 0.6917 - val_accuracy: 0.8222\n",
      "Epoch 16/100\n",
      "22/22 [==============================] - 0s 4ms/step - loss: 0.5443 - accuracy: 0.8341 - val_loss: 0.6548 - val_accuracy: 0.8489\n",
      "Epoch 17/100\n",
      "22/22 [==============================] - 0s 4ms/step - loss: 0.5015 - accuracy: 0.8356 - val_loss: 0.7749 - val_accuracy: 0.8267\n",
      "Epoch 18/100\n",
      "22/22 [==============================] - 0s 3ms/step - loss: 0.5229 - accuracy: 0.8326 - val_loss: 0.6099 - val_accuracy: 0.8533\n",
      "Epoch 19/100\n",
      "22/22 [==============================] - 0s 5ms/step - loss: 0.4360 - accuracy: 0.8444 - val_loss: 0.5690 - val_accuracy: 0.8489\n",
      "Epoch 20/100\n",
      "22/22 [==============================] - 0s 5ms/step - loss: 0.4168 - accuracy: 0.8400 - val_loss: 0.6483 - val_accuracy: 0.8222\n",
      "Epoch 21/100\n",
      "22/22 [==============================] - 0s 3ms/step - loss: 0.4438 - accuracy: 0.8474 - val_loss: 0.7549 - val_accuracy: 0.7956\n",
      "Epoch 22/100\n",
      "22/22 [==============================] - 0s 4ms/step - loss: 0.6597 - accuracy: 0.8222 - val_loss: 0.6853 - val_accuracy: 0.8578\n",
      "Epoch 23/100\n",
      "22/22 [==============================] - 0s 4ms/step - loss: 0.5094 - accuracy: 0.8356 - val_loss: 0.6163 - val_accuracy: 0.8133\n",
      "Epoch 24/100\n",
      "22/22 [==============================] - 0s 4ms/step - loss: 0.6176 - accuracy: 0.8252 - val_loss: 0.5974 - val_accuracy: 0.8444\n",
      "Epoch 25/100\n",
      "22/22 [==============================] - 0s 4ms/step - loss: 0.4438 - accuracy: 0.8548 - val_loss: 0.9922 - val_accuracy: 0.6844\n",
      "Epoch 26/100\n",
      "22/22 [==============================] - 0s 3ms/step - loss: 0.5455 - accuracy: 0.8089 - val_loss: 0.5705 - val_accuracy: 0.8444\n",
      "Epoch 27/100\n",
      "22/22 [==============================] - 0s 3ms/step - loss: 0.4399 - accuracy: 0.8459 - val_loss: 0.5394 - val_accuracy: 0.8667\n",
      "Epoch 28/100\n",
      "22/22 [==============================] - 0s 4ms/step - loss: 0.4355 - accuracy: 0.8489 - val_loss: 0.6871 - val_accuracy: 0.7867\n",
      "Epoch 29/100\n",
      "22/22 [==============================] - 0s 4ms/step - loss: 0.5662 - accuracy: 0.8267 - val_loss: 0.6134 - val_accuracy: 0.8622\n",
      "Epoch 30/100\n",
      "22/22 [==============================] - 0s 4ms/step - loss: 0.4320 - accuracy: 0.8459 - val_loss: 0.5532 - val_accuracy: 0.8578\n",
      "Epoch 31/100\n",
      "22/22 [==============================] - 0s 4ms/step - loss: 0.4344 - accuracy: 0.8548 - val_loss: 0.6076 - val_accuracy: 0.8222\n",
      "Epoch 32/100\n",
      "22/22 [==============================] - 0s 4ms/step - loss: 0.4259 - accuracy: 0.8474 - val_loss: 0.5290 - val_accuracy: 0.8489\n",
      "Epoch 33/100\n",
      "22/22 [==============================] - 0s 4ms/step - loss: 0.3902 - accuracy: 0.8533 - val_loss: 0.5214 - val_accuracy: 0.8711\n",
      "Epoch 34/100\n",
      "22/22 [==============================] - 0s 3ms/step - loss: 0.3806 - accuracy: 0.8489 - val_loss: 0.5458 - val_accuracy: 0.8533\n",
      "Epoch 35/100\n",
      "22/22 [==============================] - 0s 4ms/step - loss: 0.4079 - accuracy: 0.8385 - val_loss: 0.7026 - val_accuracy: 0.8400\n",
      "Epoch 36/100\n",
      "22/22 [==============================] - 0s 4ms/step - loss: 0.5738 - accuracy: 0.8163 - val_loss: 0.6876 - val_accuracy: 0.8311\n",
      "Epoch 37/100\n",
      "22/22 [==============================] - 0s 4ms/step - loss: 0.5482 - accuracy: 0.8356 - val_loss: 0.6006 - val_accuracy: 0.8533\n",
      "Epoch 38/100\n",
      "22/22 [==============================] - 0s 4ms/step - loss: 0.4358 - accuracy: 0.8578 - val_loss: 0.5332 - val_accuracy: 0.8267\n",
      "Epoch 39/100\n",
      "22/22 [==============================] - 0s 4ms/step - loss: 0.3718 - accuracy: 0.8533 - val_loss: 0.5220 - val_accuracy: 0.8667\n",
      "Epoch 40/100\n",
      "22/22 [==============================] - 0s 4ms/step - loss: 0.3848 - accuracy: 0.8474 - val_loss: 0.4928 - val_accuracy: 0.8844\n",
      "Epoch 41/100\n",
      "22/22 [==============================] - 0s 4ms/step - loss: 0.5932 - accuracy: 0.8237 - val_loss: 0.5765 - val_accuracy: 0.8400\n",
      "Epoch 42/100\n",
      "22/22 [==============================] - 0s 3ms/step - loss: 0.4563 - accuracy: 0.8430 - val_loss: 0.5389 - val_accuracy: 0.8311\n",
      "Epoch 43/100\n",
      "22/22 [==============================] - 0s 5ms/step - loss: 0.4593 - accuracy: 0.8415 - val_loss: 0.5191 - val_accuracy: 0.8667\n",
      "Epoch 44/100\n",
      "22/22 [==============================] - 0s 4ms/step - loss: 0.4341 - accuracy: 0.8311 - val_loss: 0.4959 - val_accuracy: 0.8622\n",
      "Epoch 45/100\n",
      "22/22 [==============================] - 0s 3ms/step - loss: 0.3905 - accuracy: 0.8341 - val_loss: 0.5288 - val_accuracy: 0.8178\n",
      "Epoch 46/100\n",
      "22/22 [==============================] - 0s 5ms/step - loss: 0.4315 - accuracy: 0.8430 - val_loss: 0.5119 - val_accuracy: 0.8400\n",
      "Epoch 47/100\n",
      "22/22 [==============================] - 0s 4ms/step - loss: 0.4073 - accuracy: 0.8326 - val_loss: 0.4609 - val_accuracy: 0.8489\n",
      "Epoch 48/100\n",
      "22/22 [==============================] - 0s 3ms/step - loss: 0.3747 - accuracy: 0.8489 - val_loss: 0.4899 - val_accuracy: 0.8533\n",
      "Epoch 49/100\n",
      "22/22 [==============================] - 0s 3ms/step - loss: 0.3625 - accuracy: 0.8519 - val_loss: 0.6890 - val_accuracy: 0.7467\n",
      "Epoch 50/100\n",
      "22/22 [==============================] - 0s 5ms/step - loss: 0.4440 - accuracy: 0.8163 - val_loss: 0.4975 - val_accuracy: 0.8444\n",
      "Epoch 51/100\n",
      "22/22 [==============================] - 0s 6ms/step - loss: 0.3727 - accuracy: 0.8459 - val_loss: 0.4549 - val_accuracy: 0.8489\n",
      "Epoch 52/100\n",
      "22/22 [==============================] - 0s 5ms/step - loss: 0.3749 - accuracy: 0.8474 - val_loss: 0.4418 - val_accuracy: 0.8533\n",
      "Epoch 53/100\n",
      "22/22 [==============================] - 0s 3ms/step - loss: 0.3519 - accuracy: 0.8519 - val_loss: 0.4818 - val_accuracy: 0.8400\n",
      "Epoch 54/100\n",
      "22/22 [==============================] - 0s 3ms/step - loss: 0.3956 - accuracy: 0.8459 - val_loss: 0.4816 - val_accuracy: 0.8400\n",
      "Epoch 55/100\n",
      "22/22 [==============================] - 0s 4ms/step - loss: 0.3729 - accuracy: 0.8430 - val_loss: 0.5565 - val_accuracy: 0.8000\n",
      "Epoch 56/100\n",
      "22/22 [==============================] - 0s 3ms/step - loss: 0.3717 - accuracy: 0.8593 - val_loss: 0.4368 - val_accuracy: 0.8667\n",
      "Epoch 57/100\n",
      "22/22 [==============================] - 0s 4ms/step - loss: 0.3453 - accuracy: 0.8533 - val_loss: 0.4880 - val_accuracy: 0.8311\n",
      "Epoch 58/100\n",
      "22/22 [==============================] - 0s 3ms/step - loss: 0.4009 - accuracy: 0.8370 - val_loss: 0.4592 - val_accuracy: 0.8444\n"
     ]
    },
    {
     "name": "stdout",
     "output_type": "stream",
     "text": [
      "Epoch 59/100\n",
      "22/22 [==============================] - 0s 4ms/step - loss: 0.3606 - accuracy: 0.8533 - val_loss: 0.4437 - val_accuracy: 0.8489\n",
      "Epoch 60/100\n",
      "22/22 [==============================] - 0s 3ms/step - loss: 0.3711 - accuracy: 0.8430 - val_loss: 0.4393 - val_accuracy: 0.8400\n",
      "Epoch 61/100\n",
      "22/22 [==============================] - 0s 3ms/step - loss: 0.3546 - accuracy: 0.8459 - val_loss: 0.5898 - val_accuracy: 0.7867\n",
      "Epoch 62/100\n",
      "22/22 [==============================] - 0s 5ms/step - loss: 0.4276 - accuracy: 0.8385 - val_loss: 0.4744 - val_accuracy: 0.8311\n",
      "Epoch 63/100\n",
      "22/22 [==============================] - 0s 4ms/step - loss: 0.4241 - accuracy: 0.8430 - val_loss: 0.4959 - val_accuracy: 0.8311\n",
      "Epoch 64/100\n",
      "22/22 [==============================] - 0s 4ms/step - loss: 0.3815 - accuracy: 0.8563 - val_loss: 0.4581 - val_accuracy: 0.8667\n",
      "Epoch 65/100\n",
      "22/22 [==============================] - 0s 4ms/step - loss: 0.4056 - accuracy: 0.8370 - val_loss: 0.4528 - val_accuracy: 0.8578\n",
      "Epoch 66/100\n",
      "22/22 [==============================] - 0s 5ms/step - loss: 0.3750 - accuracy: 0.8622 - val_loss: 0.5356 - val_accuracy: 0.8444\n",
      "Epoch 67/100\n",
      "22/22 [==============================] - 0s 5ms/step - loss: 0.3987 - accuracy: 0.8444 - val_loss: 0.4568 - val_accuracy: 0.8400\n",
      "Epoch 68/100\n",
      "22/22 [==============================] - 0s 5ms/step - loss: 0.3392 - accuracy: 0.8607 - val_loss: 0.4345 - val_accuracy: 0.8578\n",
      "Epoch 69/100\n",
      "22/22 [==============================] - 0s 5ms/step - loss: 0.3607 - accuracy: 0.8533 - val_loss: 0.4253 - val_accuracy: 0.8667\n",
      "Epoch 70/100\n",
      "22/22 [==============================] - 0s 3ms/step - loss: 0.3514 - accuracy: 0.8637 - val_loss: 0.4192 - val_accuracy: 0.8667\n",
      "Epoch 71/100\n",
      "22/22 [==============================] - 0s 4ms/step - loss: 0.4296 - accuracy: 0.8489 - val_loss: 0.6634 - val_accuracy: 0.7733\n",
      "Epoch 72/100\n",
      "22/22 [==============================] - 0s 5ms/step - loss: 0.3702 - accuracy: 0.8430 - val_loss: 0.4344 - val_accuracy: 0.8667\n",
      "Epoch 73/100\n",
      "22/22 [==============================] - 0s 4ms/step - loss: 0.3771 - accuracy: 0.8548 - val_loss: 0.4657 - val_accuracy: 0.8444\n",
      "Epoch 74/100\n",
      "22/22 [==============================] - 0s 4ms/step - loss: 0.3818 - accuracy: 0.8489 - val_loss: 0.4410 - val_accuracy: 0.8533\n",
      "Epoch 75/100\n",
      "22/22 [==============================] - 0s 4ms/step - loss: 0.3525 - accuracy: 0.8578 - val_loss: 0.5106 - val_accuracy: 0.8222\n",
      "Epoch 76/100\n",
      "22/22 [==============================] - 0s 5ms/step - loss: 0.3493 - accuracy: 0.8519 - val_loss: 0.4520 - val_accuracy: 0.8356\n",
      "Epoch 77/100\n",
      "22/22 [==============================] - 0s 5ms/step - loss: 0.3744 - accuracy: 0.8474 - val_loss: 0.4339 - val_accuracy: 0.8444\n",
      "Epoch 78/100\n",
      "22/22 [==============================] - 0s 5ms/step - loss: 0.3681 - accuracy: 0.8593 - val_loss: 0.4172 - val_accuracy: 0.8667\n",
      "Epoch 79/100\n",
      "22/22 [==============================] - 0s 4ms/step - loss: 0.3824 - accuracy: 0.8356 - val_loss: 0.4556 - val_accuracy: 0.8489\n",
      "Epoch 80/100\n",
      "22/22 [==============================] - 0s 4ms/step - loss: 0.3399 - accuracy: 0.8504 - val_loss: 0.4143 - val_accuracy: 0.8489\n",
      "Epoch 81/100\n",
      "22/22 [==============================] - 0s 5ms/step - loss: 0.3355 - accuracy: 0.8548 - val_loss: 0.4134 - val_accuracy: 0.8667\n",
      "Epoch 82/100\n",
      "22/22 [==============================] - 0s 5ms/step - loss: 0.3241 - accuracy: 0.8696 - val_loss: 0.4220 - val_accuracy: 0.8489\n",
      "Epoch 83/100\n",
      "22/22 [==============================] - 0s 5ms/step - loss: 0.3339 - accuracy: 0.8681 - val_loss: 0.4034 - val_accuracy: 0.8711\n",
      "Epoch 84/100\n",
      "22/22 [==============================] - 0s 5ms/step - loss: 0.3312 - accuracy: 0.8667 - val_loss: 0.4276 - val_accuracy: 0.8578\n",
      "Epoch 85/100\n",
      "22/22 [==============================] - 0s 5ms/step - loss: 0.3380 - accuracy: 0.8607 - val_loss: 0.4073 - val_accuracy: 0.8533\n",
      "Epoch 86/100\n",
      "22/22 [==============================] - 0s 6ms/step - loss: 0.3424 - accuracy: 0.8607 - val_loss: 0.5566 - val_accuracy: 0.8044\n",
      "Epoch 87/100\n",
      "22/22 [==============================] - 0s 4ms/step - loss: 0.4346 - accuracy: 0.8326 - val_loss: 0.4423 - val_accuracy: 0.8578\n",
      "Epoch 88/100\n",
      "22/22 [==============================] - 0s 4ms/step - loss: 0.3884 - accuracy: 0.8489 - val_loss: 0.4045 - val_accuracy: 0.8667\n",
      "Epoch 89/100\n",
      "22/22 [==============================] - 0s 5ms/step - loss: 0.3294 - accuracy: 0.8533 - val_loss: 0.4035 - val_accuracy: 0.8667\n",
      "Epoch 90/100\n",
      "22/22 [==============================] - 0s 5ms/step - loss: 0.3384 - accuracy: 0.8622 - val_loss: 0.8367 - val_accuracy: 0.6489\n",
      "Epoch 91/100\n",
      "22/22 [==============================] - 0s 5ms/step - loss: 0.4617 - accuracy: 0.8222 - val_loss: 0.4384 - val_accuracy: 0.8533\n",
      "Epoch 92/100\n",
      "22/22 [==============================] - 0s 5ms/step - loss: 0.3307 - accuracy: 0.8607 - val_loss: 0.4316 - val_accuracy: 0.8444\n",
      "Epoch 93/100\n",
      "22/22 [==============================] - 0s 5ms/step - loss: 0.3466 - accuracy: 0.8489 - val_loss: 0.4063 - val_accuracy: 0.8711\n",
      "Epoch 94/100\n",
      "22/22 [==============================] - 0s 4ms/step - loss: 0.3425 - accuracy: 0.8637 - val_loss: 0.4183 - val_accuracy: 0.8667\n",
      "Epoch 95/100\n",
      "22/22 [==============================] - 0s 3ms/step - loss: 0.3434 - accuracy: 0.8667 - val_loss: 0.3977 - val_accuracy: 0.8667\n",
      "Epoch 96/100\n",
      "22/22 [==============================] - 0s 3ms/step - loss: 0.3465 - accuracy: 0.8607 - val_loss: 0.6491 - val_accuracy: 0.7911\n",
      "Epoch 97/100\n",
      "22/22 [==============================] - 0s 4ms/step - loss: 0.3978 - accuracy: 0.8519 - val_loss: 0.4397 - val_accuracy: 0.8311\n",
      "Epoch 98/100\n",
      "22/22 [==============================] - 0s 4ms/step - loss: 0.3234 - accuracy: 0.8593 - val_loss: 0.4266 - val_accuracy: 0.8400\n",
      "Epoch 99/100\n",
      "22/22 [==============================] - 0s 3ms/step - loss: 0.3274 - accuracy: 0.8548 - val_loss: 0.4143 - val_accuracy: 0.8622\n",
      "Epoch 100/100\n",
      "22/22 [==============================] - 0s 4ms/step - loss: 0.3755 - accuracy: 0.8622 - val_loss: 0.4689 - val_accuracy: 0.8133\n",
      "8/8 [==============================] - 0s 2ms/step\n"
     ]
    }
   ],
   "source": [
    "#fitting the model and predicting \n",
    "\n",
    "# fit network\n",
    "model_history=model.fit(x=X_train, y=y_train, epochs=100, batch_size=32,validation_data= (X_test,y_test))\n",
    "y_pred = model.predict(X_test)\n",
    "\n",
    "y_test_class = np.argmax(y_test,axis=1)\n",
    "y_pred_class = np.argmax(y_pred,axis=1)"
   ]
  },
  {
   "cell_type": "code",
   "execution_count": 21,
   "id": "b7450f52",
   "metadata": {},
   "outputs": [
    {
     "data": {
      "image/png": "[encoded data removed]",
      "text/plain": [
       "<Figure size 640x480 with 1 Axes>"
      ]
     },
     "metadata": {},
     "output_type": "display_data"
    }
   ],
   "source": [
    "import matplotlib.pyplot as plt\n",
    "import seaborn as sns\n",
    "\n",
    "loss =model_history.history['loss']\n",
    "val_loss =model_history.history['val_loss']\n",
    "epochs = range(1, len(loss) + 1)\n",
    "plt.plot(epochs, loss, 'y', label='Training loss')\n",
    "plt.plot(epochs, val_loss, 'r', label='Validation loss')\n",
    "plt.title('Training and validation loss')\n",
    "plt.xlabel('Epochs')\n",
    "plt.ylabel('Loss')\n",
    "plt.legend()\n",
    "plt.show()"
   ]
  },
  {
   "cell_type": "code",
   "execution_count": 22,
   "id": "2a0c20a1",
   "metadata": {},
   "outputs": [
    {
     "data": {
      "image/png": "[encoded data removed]",
      "text/plain": [
       "<Figure size 640x480 with 1 Axes>"
      ]
     },
     "metadata": {},
     "output_type": "display_data"
    }
   ],
   "source": [
    "acc = model_history.history['accuracy']\n",
    "val_acc = model_history.history['val_accuracy']\n",
    "plt.plot(epochs, acc, 'y', label='Training acc')\n",
    "plt.plot(epochs, val_acc, 'r', label='Validation acc')\n",
    "plt.title('Training and validation accuracy')\n",
    "plt.xlabel('Epochs')\n",
    "plt.ylabel('Accuracy')\n",
    "plt.legend()\n",
    "plt.show()"
   ]
  },
  {
   "cell_type": "code",
   "execution_count": 23,
   "id": "ea54cf0e",
   "metadata": {},
   "outputs": [
    {
     "name": "stdout",
     "output_type": "stream",
     "text": [
      "              precision    recall  f1-score   support\n",
      "\n",
      "           0       0.77      0.90      0.83       115\n",
      "           1       0.87      0.73      0.79       110\n",
      "\n",
      "    accuracy                           0.81       225\n",
      "   macro avg       0.82      0.81      0.81       225\n",
      "weighted avg       0.82      0.81      0.81       225\n",
      "\n",
      "[[103  12]\n",
      " [ 30  80]]\n"
     ]
    }
   ],
   "source": [
    "from sklearn.metrics import classification_report,confusion_matrix\n",
    "print(classification_report(y_test_class,y_pred_class))\n",
    "print(confusion_matrix(y_test_class,y_pred_class))"
   ]
  },
  {
   "cell_type": "code",
   "execution_count": 24,
   "id": "ec708d67",
   "metadata": {},
   "outputs": [
    {
     "data": {
      "text/plain": [
       "0.792079207920792"
      ]
     },
     "execution_count": 24,
     "metadata": {},
     "output_type": "execute_result"
    }
   ],
   "source": [
    "from sklearn.metrics import f1_score, precision_score, recall_score\n",
    "\n",
    "f1_score(y_test_class, y_pred_class) # 0.6666666666666665"
   ]
  },
  {
   "cell_type": "code",
   "execution_count": 25,
   "id": "49864b23",
   "metadata": {},
   "outputs": [
    {
     "data": {
      "text/plain": [
       "0.8695652173913043"
      ]
     },
     "execution_count": 25,
     "metadata": {},
     "output_type": "execute_result"
    }
   ],
   "source": [
    "precision_score(y_test_class, y_pred_class) # 0.75"
   ]
  },
  {
   "cell_type": "code",
   "execution_count": 26,
   "id": "a47e2353",
   "metadata": {},
   "outputs": [
    {
     "data": {
      "text/plain": [
       "0.7272727272727273"
      ]
     },
     "execution_count": 26,
     "metadata": {},
     "output_type": "execute_result"
    }
   ],
   "source": [
    "recall_score(y_test_class, y_pred_class)"
   ]
  }
 ],
 "metadata": {
  "kernelspec": {
   "display_name": "Python 3 (ipykernel)",
   "language": "python",
   "name": "python3"
  },
  "language_info": {
   "codemirror_mode": {
    "name": "ipython",
    "version": 3
   },
   "file_extension": ".py",
   "mimetype": "text/x-python",
   "name": "python",
   "nbconvert_exporter": "python",
   "pygments_lexer": "ipython3",
   "version": "3.10.9"
  }
 },
 "nbformat": 4,
 "nbformat_minor": 5
}
